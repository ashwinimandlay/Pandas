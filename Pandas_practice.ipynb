{
 "cells": [
  {
   "cell_type": "markdown",
   "id": "2c64392d",
   "metadata": {},
   "source": [
    "# pandas intro"
   ]
  },
  {
   "cell_type": "code",
   "execution_count": 1,
   "id": "49847bd6",
   "metadata": {},
   "outputs": [],
   "source": [
    "import pandas as pd\n",
    "import numpy as np"
   ]
  },
  {
   "cell_type": "markdown",
   "id": "32341644",
   "metadata": {},
   "source": [
    "# series list "
   ]
  },
  {
   "cell_type": "code",
   "execution_count": 2,
   "id": "81ed70f3",
   "metadata": {},
   "outputs": [
    {
     "data": {
      "text/plain": [
       "0    1.0\n",
       "1    3.0\n",
       "2    5.0\n",
       "3    NaN\n",
       "4    6.0\n",
       "5    8.0\n",
       "dtype: float64"
      ]
     },
     "execution_count": 2,
     "metadata": {},
     "output_type": "execute_result"
    }
   ],
   "source": [
    "s = pd.Series([1, 3, 5, np.nan, 6, 8])\n",
    "s"
   ]
  },
  {
   "cell_type": "markdown",
   "id": "36384e16",
   "metadata": {},
   "source": [
    "# date range "
   ]
  },
  {
   "cell_type": "code",
   "execution_count": 3,
   "id": "68a56d2f",
   "metadata": {},
   "outputs": [],
   "source": [
    "# pd.range the number of period (or days)"
   ]
  },
  {
   "cell_type": "code",
   "execution_count": 4,
   "id": "09d11495",
   "metadata": {},
   "outputs": [
    {
     "data": {
      "text/plain": [
       "DatetimeIndex(['2013-01-01', '2013-01-02', '2013-01-03', '2013-01-04',\n",
       "               '2013-01-05', '2013-01-06'],\n",
       "              dtype='datetime64[ns]', freq='D')"
      ]
     },
     "execution_count": 4,
     "metadata": {},
     "output_type": "execute_result"
    }
   ],
   "source": [
    "dates = pd.date_range('20130101', periods=6)\n",
    "dates"
   ]
  },
  {
   "cell_type": "markdown",
   "id": "02e5ee56",
   "metadata": {},
   "source": [
    "# Dataframe 2d array "
   ]
  },
  {
   "cell_type": "code",
   "execution_count": 5,
   "id": "15c073c2",
   "metadata": {},
   "outputs": [],
   "source": [
    "# np.random.randn is standardize normal distribution \n",
    "# that has value in range -3 to 3 "
   ]
  },
  {
   "cell_type": "code",
   "execution_count": 6,
   "id": "f47dabec",
   "metadata": {},
   "outputs": [],
   "source": [
    "# (6, 4) is 2d dimension of array "
   ]
  },
  {
   "cell_type": "code",
   "execution_count": 7,
   "id": "42b54ca3",
   "metadata": {},
   "outputs": [
    {
     "data": {
      "text/html": [
       "<div>\n",
       "<style scoped>\n",
       "    .dataframe tbody tr th:only-of-type {\n",
       "        vertical-align: middle;\n",
       "    }\n",
       "\n",
       "    .dataframe tbody tr th {\n",
       "        vertical-align: top;\n",
       "    }\n",
       "\n",
       "    .dataframe thead th {\n",
       "        text-align: right;\n",
       "    }\n",
       "</style>\n",
       "<table border=\"1\" class=\"dataframe\">\n",
       "  <thead>\n",
       "    <tr style=\"text-align: right;\">\n",
       "      <th></th>\n",
       "      <th>A</th>\n",
       "      <th>B</th>\n",
       "      <th>C</th>\n",
       "      <th>D</th>\n",
       "    </tr>\n",
       "  </thead>\n",
       "  <tbody>\n",
       "    <tr>\n",
       "      <th>2013-01-01</th>\n",
       "      <td>-0.605636</td>\n",
       "      <td>0.093479</td>\n",
       "      <td>-0.516261</td>\n",
       "      <td>0.338599</td>\n",
       "    </tr>\n",
       "    <tr>\n",
       "      <th>2013-01-02</th>\n",
       "      <td>0.441679</td>\n",
       "      <td>-0.531593</td>\n",
       "      <td>-1.183277</td>\n",
       "      <td>-0.196020</td>\n",
       "    </tr>\n",
       "    <tr>\n",
       "      <th>2013-01-03</th>\n",
       "      <td>0.079163</td>\n",
       "      <td>-0.450454</td>\n",
       "      <td>-0.867765</td>\n",
       "      <td>-0.120254</td>\n",
       "    </tr>\n",
       "    <tr>\n",
       "      <th>2013-01-04</th>\n",
       "      <td>1.058826</td>\n",
       "      <td>0.572905</td>\n",
       "      <td>1.720068</td>\n",
       "      <td>1.032870</td>\n",
       "    </tr>\n",
       "    <tr>\n",
       "      <th>2013-01-05</th>\n",
       "      <td>-0.309411</td>\n",
       "      <td>0.341118</td>\n",
       "      <td>1.457555</td>\n",
       "      <td>0.552161</td>\n",
       "    </tr>\n",
       "    <tr>\n",
       "      <th>2013-01-06</th>\n",
       "      <td>0.131366</td>\n",
       "      <td>-0.444303</td>\n",
       "      <td>-2.290952</td>\n",
       "      <td>1.067135</td>\n",
       "    </tr>\n",
       "  </tbody>\n",
       "</table>\n",
       "</div>"
      ],
      "text/plain": [
       "                   A         B         C         D\n",
       "2013-01-01 -0.605636  0.093479 -0.516261  0.338599\n",
       "2013-01-02  0.441679 -0.531593 -1.183277 -0.196020\n",
       "2013-01-03  0.079163 -0.450454 -0.867765 -0.120254\n",
       "2013-01-04  1.058826  0.572905  1.720068  1.032870\n",
       "2013-01-05 -0.309411  0.341118  1.457555  0.552161\n",
       "2013-01-06  0.131366 -0.444303 -2.290952  1.067135"
      ]
     },
     "execution_count": 7,
     "metadata": {},
     "output_type": "execute_result"
    }
   ],
   "source": [
    "df = pd.DataFrame(np.random.randn(6, 4), index = dates, columns=list('ABCD'))\n",
    "df"
   ]
  },
  {
   "cell_type": "markdown",
   "id": "35863285",
   "metadata": {},
   "source": [
    "# dictionary to dataframe "
   ]
  },
  {
   "cell_type": "code",
   "execution_count": 8,
   "id": "c3355b5f",
   "metadata": {},
   "outputs": [
    {
     "data": {
      "text/html": [
       "<div>\n",
       "<style scoped>\n",
       "    .dataframe tbody tr th:only-of-type {\n",
       "        vertical-align: middle;\n",
       "    }\n",
       "\n",
       "    .dataframe tbody tr th {\n",
       "        vertical-align: top;\n",
       "    }\n",
       "\n",
       "    .dataframe thead th {\n",
       "        text-align: right;\n",
       "    }\n",
       "</style>\n",
       "<table border=\"1\" class=\"dataframe\">\n",
       "  <thead>\n",
       "    <tr style=\"text-align: right;\">\n",
       "      <th></th>\n",
       "      <th>A</th>\n",
       "      <th>B</th>\n",
       "      <th>C</th>\n",
       "      <th>D</th>\n",
       "      <th>E</th>\n",
       "      <th>F</th>\n",
       "    </tr>\n",
       "  </thead>\n",
       "  <tbody>\n",
       "    <tr>\n",
       "      <th>0</th>\n",
       "      <td>1</td>\n",
       "      <td>2013-01-02</td>\n",
       "      <td>1.0</td>\n",
       "      <td>3</td>\n",
       "      <td>test</td>\n",
       "      <td>foo</td>\n",
       "    </tr>\n",
       "    <tr>\n",
       "      <th>1</th>\n",
       "      <td>1</td>\n",
       "      <td>2013-01-02</td>\n",
       "      <td>1.0</td>\n",
       "      <td>3</td>\n",
       "      <td>train</td>\n",
       "      <td>foo</td>\n",
       "    </tr>\n",
       "    <tr>\n",
       "      <th>2</th>\n",
       "      <td>1</td>\n",
       "      <td>2013-01-02</td>\n",
       "      <td>1.0</td>\n",
       "      <td>3</td>\n",
       "      <td>test</td>\n",
       "      <td>foo</td>\n",
       "    </tr>\n",
       "    <tr>\n",
       "      <th>3</th>\n",
       "      <td>1</td>\n",
       "      <td>2013-01-02</td>\n",
       "      <td>1.0</td>\n",
       "      <td>3</td>\n",
       "      <td>train</td>\n",
       "      <td>foo</td>\n",
       "    </tr>\n",
       "  </tbody>\n",
       "</table>\n",
       "</div>"
      ],
      "text/plain": [
       "   A          B    C  D      E    F\n",
       "0  1 2013-01-02  1.0  3   test  foo\n",
       "1  1 2013-01-02  1.0  3  train  foo\n",
       "2  1 2013-01-02  1.0  3   test  foo\n",
       "3  1 2013-01-02  1.0  3  train  foo"
      ]
     },
     "execution_count": 8,
     "metadata": {},
     "output_type": "execute_result"
    }
   ],
   "source": [
    "df2 = pd.DataFrame({\n",
    "    'A': 1,\n",
    "    'B': pd.Timestamp('20130102'),\n",
    "    'C': pd.Series(1, index=list(range(4)), dtype='float32'),\n",
    "    'D': np.array([3]*4, dtype='int32'),\n",
    "    'E': pd.Categorical(['test', 'train', 'test', 'train']),\n",
    "    'F': 'foo'\n",
    "})\n",
    "df2"
   ]
  },
  {
   "cell_type": "code",
   "execution_count": 9,
   "id": "3f6b5efc",
   "metadata": {},
   "outputs": [
    {
     "data": {
      "text/plain": [
       "0     test\n",
       "1    train\n",
       "2     test\n",
       "3    train\n",
       "Name: E, dtype: category\n",
       "Categories (2, object): ['test', 'train']"
      ]
     },
     "execution_count": 9,
     "metadata": {},
     "output_type": "execute_result"
    }
   ],
   "source": [
    "df2['E']"
   ]
  },
  {
   "cell_type": "code",
   "execution_count": 10,
   "id": "d86a02ca",
   "metadata": {},
   "outputs": [
    {
     "data": {
      "text/plain": [
       "A             int64\n",
       "B    datetime64[ns]\n",
       "C           float32\n",
       "D             int32\n",
       "E          category\n",
       "F            object\n",
       "dtype: object"
      ]
     },
     "execution_count": 10,
     "metadata": {},
     "output_type": "execute_result"
    }
   ],
   "source": [
    "df2.dtypes"
   ]
  },
  {
   "cell_type": "markdown",
   "id": "1a4a910e",
   "metadata": {},
   "source": [
    "## viewing data "
   ]
  },
  {
   "cell_type": "code",
   "execution_count": 11,
   "id": "991b81d6",
   "metadata": {},
   "outputs": [
    {
     "data": {
      "text/html": [
       "<div>\n",
       "<style scoped>\n",
       "    .dataframe tbody tr th:only-of-type {\n",
       "        vertical-align: middle;\n",
       "    }\n",
       "\n",
       "    .dataframe tbody tr th {\n",
       "        vertical-align: top;\n",
       "    }\n",
       "\n",
       "    .dataframe thead th {\n",
       "        text-align: right;\n",
       "    }\n",
       "</style>\n",
       "<table border=\"1\" class=\"dataframe\">\n",
       "  <thead>\n",
       "    <tr style=\"text-align: right;\">\n",
       "      <th></th>\n",
       "      <th>A</th>\n",
       "      <th>B</th>\n",
       "      <th>C</th>\n",
       "      <th>D</th>\n",
       "    </tr>\n",
       "  </thead>\n",
       "  <tbody>\n",
       "    <tr>\n",
       "      <th>2013-01-01</th>\n",
       "      <td>-0.605636</td>\n",
       "      <td>0.093479</td>\n",
       "      <td>-0.516261</td>\n",
       "      <td>0.338599</td>\n",
       "    </tr>\n",
       "    <tr>\n",
       "      <th>2013-01-02</th>\n",
       "      <td>0.441679</td>\n",
       "      <td>-0.531593</td>\n",
       "      <td>-1.183277</td>\n",
       "      <td>-0.196020</td>\n",
       "    </tr>\n",
       "    <tr>\n",
       "      <th>2013-01-03</th>\n",
       "      <td>0.079163</td>\n",
       "      <td>-0.450454</td>\n",
       "      <td>-0.867765</td>\n",
       "      <td>-0.120254</td>\n",
       "    </tr>\n",
       "    <tr>\n",
       "      <th>2013-01-04</th>\n",
       "      <td>1.058826</td>\n",
       "      <td>0.572905</td>\n",
       "      <td>1.720068</td>\n",
       "      <td>1.032870</td>\n",
       "    </tr>\n",
       "    <tr>\n",
       "      <th>2013-01-05</th>\n",
       "      <td>-0.309411</td>\n",
       "      <td>0.341118</td>\n",
       "      <td>1.457555</td>\n",
       "      <td>0.552161</td>\n",
       "    </tr>\n",
       "  </tbody>\n",
       "</table>\n",
       "</div>"
      ],
      "text/plain": [
       "                   A         B         C         D\n",
       "2013-01-01 -0.605636  0.093479 -0.516261  0.338599\n",
       "2013-01-02  0.441679 -0.531593 -1.183277 -0.196020\n",
       "2013-01-03  0.079163 -0.450454 -0.867765 -0.120254\n",
       "2013-01-04  1.058826  0.572905  1.720068  1.032870\n",
       "2013-01-05 -0.309411  0.341118  1.457555  0.552161"
      ]
     },
     "execution_count": 11,
     "metadata": {},
     "output_type": "execute_result"
    }
   ],
   "source": [
    "df.head()"
   ]
  },
  {
   "cell_type": "code",
   "execution_count": 12,
   "id": "48a10a6a",
   "metadata": {},
   "outputs": [
    {
     "data": {
      "text/html": [
       "<div>\n",
       "<style scoped>\n",
       "    .dataframe tbody tr th:only-of-type {\n",
       "        vertical-align: middle;\n",
       "    }\n",
       "\n",
       "    .dataframe tbody tr th {\n",
       "        vertical-align: top;\n",
       "    }\n",
       "\n",
       "    .dataframe thead th {\n",
       "        text-align: right;\n",
       "    }\n",
       "</style>\n",
       "<table border=\"1\" class=\"dataframe\">\n",
       "  <thead>\n",
       "    <tr style=\"text-align: right;\">\n",
       "      <th></th>\n",
       "      <th>A</th>\n",
       "      <th>B</th>\n",
       "      <th>C</th>\n",
       "      <th>D</th>\n",
       "    </tr>\n",
       "  </thead>\n",
       "  <tbody>\n",
       "    <tr>\n",
       "      <th>2013-01-02</th>\n",
       "      <td>0.441679</td>\n",
       "      <td>-0.531593</td>\n",
       "      <td>-1.183277</td>\n",
       "      <td>-0.196020</td>\n",
       "    </tr>\n",
       "    <tr>\n",
       "      <th>2013-01-03</th>\n",
       "      <td>0.079163</td>\n",
       "      <td>-0.450454</td>\n",
       "      <td>-0.867765</td>\n",
       "      <td>-0.120254</td>\n",
       "    </tr>\n",
       "    <tr>\n",
       "      <th>2013-01-04</th>\n",
       "      <td>1.058826</td>\n",
       "      <td>0.572905</td>\n",
       "      <td>1.720068</td>\n",
       "      <td>1.032870</td>\n",
       "    </tr>\n",
       "    <tr>\n",
       "      <th>2013-01-05</th>\n",
       "      <td>-0.309411</td>\n",
       "      <td>0.341118</td>\n",
       "      <td>1.457555</td>\n",
       "      <td>0.552161</td>\n",
       "    </tr>\n",
       "    <tr>\n",
       "      <th>2013-01-06</th>\n",
       "      <td>0.131366</td>\n",
       "      <td>-0.444303</td>\n",
       "      <td>-2.290952</td>\n",
       "      <td>1.067135</td>\n",
       "    </tr>\n",
       "  </tbody>\n",
       "</table>\n",
       "</div>"
      ],
      "text/plain": [
       "                   A         B         C         D\n",
       "2013-01-02  0.441679 -0.531593 -1.183277 -0.196020\n",
       "2013-01-03  0.079163 -0.450454 -0.867765 -0.120254\n",
       "2013-01-04  1.058826  0.572905  1.720068  1.032870\n",
       "2013-01-05 -0.309411  0.341118  1.457555  0.552161\n",
       "2013-01-06  0.131366 -0.444303 -2.290952  1.067135"
      ]
     },
     "execution_count": 12,
     "metadata": {},
     "output_type": "execute_result"
    }
   ],
   "source": [
    "df.tail()"
   ]
  },
  {
   "cell_type": "code",
   "execution_count": 13,
   "id": "ca6f283f",
   "metadata": {},
   "outputs": [
    {
     "data": {
      "text/html": [
       "<div>\n",
       "<style scoped>\n",
       "    .dataframe tbody tr th:only-of-type {\n",
       "        vertical-align: middle;\n",
       "    }\n",
       "\n",
       "    .dataframe tbody tr th {\n",
       "        vertical-align: top;\n",
       "    }\n",
       "\n",
       "    .dataframe thead th {\n",
       "        text-align: right;\n",
       "    }\n",
       "</style>\n",
       "<table border=\"1\" class=\"dataframe\">\n",
       "  <thead>\n",
       "    <tr style=\"text-align: right;\">\n",
       "      <th></th>\n",
       "      <th>A</th>\n",
       "      <th>B</th>\n",
       "      <th>C</th>\n",
       "      <th>D</th>\n",
       "    </tr>\n",
       "  </thead>\n",
       "  <tbody>\n",
       "    <tr>\n",
       "      <th>2013-01-05</th>\n",
       "      <td>-0.309411</td>\n",
       "      <td>0.341118</td>\n",
       "      <td>1.457555</td>\n",
       "      <td>0.552161</td>\n",
       "    </tr>\n",
       "    <tr>\n",
       "      <th>2013-01-06</th>\n",
       "      <td>0.131366</td>\n",
       "      <td>-0.444303</td>\n",
       "      <td>-2.290952</td>\n",
       "      <td>1.067135</td>\n",
       "    </tr>\n",
       "  </tbody>\n",
       "</table>\n",
       "</div>"
      ],
      "text/plain": [
       "                   A         B         C         D\n",
       "2013-01-05 -0.309411  0.341118  1.457555  0.552161\n",
       "2013-01-06  0.131366 -0.444303 -2.290952  1.067135"
      ]
     },
     "execution_count": 13,
     "metadata": {},
     "output_type": "execute_result"
    }
   ],
   "source": [
    "df.tail(2)"
   ]
  },
  {
   "cell_type": "code",
   "execution_count": 14,
   "id": "e911c22c",
   "metadata": {},
   "outputs": [
    {
     "data": {
      "text/plain": [
       "DatetimeIndex(['2013-01-01', '2013-01-02', '2013-01-03', '2013-01-04',\n",
       "               '2013-01-05', '2013-01-06'],\n",
       "              dtype='datetime64[ns]', freq='D')"
      ]
     },
     "execution_count": 14,
     "metadata": {},
     "output_type": "execute_result"
    }
   ],
   "source": [
    "df.index"
   ]
  },
  {
   "cell_type": "code",
   "execution_count": 15,
   "id": "4f63ce7e",
   "metadata": {},
   "outputs": [
    {
     "data": {
      "text/plain": [
       "Index(['A', 'B', 'C', 'D'], dtype='object')"
      ]
     },
     "execution_count": 15,
     "metadata": {},
     "output_type": "execute_result"
    }
   ],
   "source": [
    "df.columns"
   ]
  },
  {
   "cell_type": "markdown",
   "id": "be727826",
   "metadata": {},
   "source": [
    "# dataframe to numpy "
   ]
  },
  {
   "cell_type": "code",
   "execution_count": 16,
   "id": "7704c12b",
   "metadata": {},
   "outputs": [],
   "source": [
    "# dataframe to numpy can be expensive operation as numpy has same data type\n",
    "# for all values whereas pandas has same data type for a single column\n",
    "\n",
    "# so if our dataframe has multiple datatypes like (float, int, object)\n",
    "# then it will take the most expensive one (here the object data type)"
   ]
  },
  {
   "cell_type": "code",
   "execution_count": 17,
   "id": "84fc5a61",
   "metadata": {},
   "outputs": [
    {
     "data": {
      "text/plain": [
       "array([[-0.60563555,  0.09347916, -0.51626146,  0.33859947],\n",
       "       [ 0.44167944, -0.5315932 , -1.1832773 , -0.19601969],\n",
       "       [ 0.07916318, -0.45045383, -0.86776518, -0.12025434],\n",
       "       [ 1.05882595,  0.57290499,  1.72006755,  1.03286972],\n",
       "       [-0.30941077,  0.34111754,  1.45755531,  0.55216078],\n",
       "       [ 0.13136571, -0.44430335, -2.29095245,  1.06713528]])"
      ]
     },
     "execution_count": 17,
     "metadata": {},
     "output_type": "execute_result"
    }
   ],
   "source": [
    "df.to_numpy()"
   ]
  },
  {
   "cell_type": "code",
   "execution_count": 18,
   "id": "52fb4390",
   "metadata": {},
   "outputs": [
    {
     "data": {
      "text/plain": [
       "array([[1, Timestamp('2013-01-02 00:00:00'), 1.0, 3, 'test', 'foo'],\n",
       "       [1, Timestamp('2013-01-02 00:00:00'), 1.0, 3, 'train', 'foo'],\n",
       "       [1, Timestamp('2013-01-02 00:00:00'), 1.0, 3, 'test', 'foo'],\n",
       "       [1, Timestamp('2013-01-02 00:00:00'), 1.0, 3, 'train', 'foo']],\n",
       "      dtype=object)"
      ]
     },
     "execution_count": 18,
     "metadata": {},
     "output_type": "execute_result"
    }
   ],
   "source": [
    "df2.to_numpy()"
   ]
  },
  {
   "cell_type": "code",
   "execution_count": 19,
   "id": "81e1b76a",
   "metadata": {},
   "outputs": [],
   "source": [
    "# NOTE: column and index are removed when converted to numpy\n",
    "# DataFrame.to_numpy() does not include the index or column labels in the output"
   ]
  },
  {
   "cell_type": "markdown",
   "id": "b70dc328",
   "metadata": {},
   "source": [
    "# describe shows summary (mean, std etc) "
   ]
  },
  {
   "cell_type": "code",
   "execution_count": 20,
   "id": "f6412d4e",
   "metadata": {},
   "outputs": [
    {
     "data": {
      "text/html": [
       "<div>\n",
       "<style scoped>\n",
       "    .dataframe tbody tr th:only-of-type {\n",
       "        vertical-align: middle;\n",
       "    }\n",
       "\n",
       "    .dataframe tbody tr th {\n",
       "        vertical-align: top;\n",
       "    }\n",
       "\n",
       "    .dataframe thead th {\n",
       "        text-align: right;\n",
       "    }\n",
       "</style>\n",
       "<table border=\"1\" class=\"dataframe\">\n",
       "  <thead>\n",
       "    <tr style=\"text-align: right;\">\n",
       "      <th></th>\n",
       "      <th>A</th>\n",
       "      <th>B</th>\n",
       "      <th>C</th>\n",
       "      <th>D</th>\n",
       "    </tr>\n",
       "  </thead>\n",
       "  <tbody>\n",
       "    <tr>\n",
       "      <th>count</th>\n",
       "      <td>6.000000</td>\n",
       "      <td>6.000000</td>\n",
       "      <td>6.000000</td>\n",
       "      <td>6.000000</td>\n",
       "    </tr>\n",
       "    <tr>\n",
       "      <th>mean</th>\n",
       "      <td>0.132665</td>\n",
       "      <td>-0.069808</td>\n",
       "      <td>-0.280106</td>\n",
       "      <td>0.445749</td>\n",
       "    </tr>\n",
       "    <tr>\n",
       "      <th>std</th>\n",
       "      <td>0.582520</td>\n",
       "      <td>0.470529</td>\n",
       "      <td>1.567195</td>\n",
       "      <td>0.545135</td>\n",
       "    </tr>\n",
       "    <tr>\n",
       "      <th>min</th>\n",
       "      <td>-0.605636</td>\n",
       "      <td>-0.531593</td>\n",
       "      <td>-2.290952</td>\n",
       "      <td>-0.196020</td>\n",
       "    </tr>\n",
       "    <tr>\n",
       "      <th>25%</th>\n",
       "      <td>-0.212267</td>\n",
       "      <td>-0.448916</td>\n",
       "      <td>-1.104399</td>\n",
       "      <td>-0.005541</td>\n",
       "    </tr>\n",
       "    <tr>\n",
       "      <th>50%</th>\n",
       "      <td>0.105264</td>\n",
       "      <td>-0.175412</td>\n",
       "      <td>-0.692013</td>\n",
       "      <td>0.445380</td>\n",
       "    </tr>\n",
       "    <tr>\n",
       "      <th>75%</th>\n",
       "      <td>0.364101</td>\n",
       "      <td>0.279208</td>\n",
       "      <td>0.964101</td>\n",
       "      <td>0.912692</td>\n",
       "    </tr>\n",
       "    <tr>\n",
       "      <th>max</th>\n",
       "      <td>1.058826</td>\n",
       "      <td>0.572905</td>\n",
       "      <td>1.720068</td>\n",
       "      <td>1.067135</td>\n",
       "    </tr>\n",
       "  </tbody>\n",
       "</table>\n",
       "</div>"
      ],
      "text/plain": [
       "              A         B         C         D\n",
       "count  6.000000  6.000000  6.000000  6.000000\n",
       "mean   0.132665 -0.069808 -0.280106  0.445749\n",
       "std    0.582520  0.470529  1.567195  0.545135\n",
       "min   -0.605636 -0.531593 -2.290952 -0.196020\n",
       "25%   -0.212267 -0.448916 -1.104399 -0.005541\n",
       "50%    0.105264 -0.175412 -0.692013  0.445380\n",
       "75%    0.364101  0.279208  0.964101  0.912692\n",
       "max    1.058826  0.572905  1.720068  1.067135"
      ]
     },
     "execution_count": 20,
     "metadata": {},
     "output_type": "execute_result"
    }
   ],
   "source": [
    "df.describe()"
   ]
  },
  {
   "cell_type": "markdown",
   "id": "c1e81b00",
   "metadata": {},
   "source": [
    "# transpose your data (just like matrix) "
   ]
  },
  {
   "cell_type": "code",
   "execution_count": 21,
   "id": "ecd3ad9a",
   "metadata": {},
   "outputs": [
    {
     "data": {
      "text/html": [
       "<div>\n",
       "<style scoped>\n",
       "    .dataframe tbody tr th:only-of-type {\n",
       "        vertical-align: middle;\n",
       "    }\n",
       "\n",
       "    .dataframe tbody tr th {\n",
       "        vertical-align: top;\n",
       "    }\n",
       "\n",
       "    .dataframe thead th {\n",
       "        text-align: right;\n",
       "    }\n",
       "</style>\n",
       "<table border=\"1\" class=\"dataframe\">\n",
       "  <thead>\n",
       "    <tr style=\"text-align: right;\">\n",
       "      <th></th>\n",
       "      <th>2013-01-01</th>\n",
       "      <th>2013-01-02</th>\n",
       "      <th>2013-01-03</th>\n",
       "      <th>2013-01-04</th>\n",
       "      <th>2013-01-05</th>\n",
       "      <th>2013-01-06</th>\n",
       "    </tr>\n",
       "  </thead>\n",
       "  <tbody>\n",
       "    <tr>\n",
       "      <th>A</th>\n",
       "      <td>-0.605636</td>\n",
       "      <td>0.441679</td>\n",
       "      <td>0.079163</td>\n",
       "      <td>1.058826</td>\n",
       "      <td>-0.309411</td>\n",
       "      <td>0.131366</td>\n",
       "    </tr>\n",
       "    <tr>\n",
       "      <th>B</th>\n",
       "      <td>0.093479</td>\n",
       "      <td>-0.531593</td>\n",
       "      <td>-0.450454</td>\n",
       "      <td>0.572905</td>\n",
       "      <td>0.341118</td>\n",
       "      <td>-0.444303</td>\n",
       "    </tr>\n",
       "    <tr>\n",
       "      <th>C</th>\n",
       "      <td>-0.516261</td>\n",
       "      <td>-1.183277</td>\n",
       "      <td>-0.867765</td>\n",
       "      <td>1.720068</td>\n",
       "      <td>1.457555</td>\n",
       "      <td>-2.290952</td>\n",
       "    </tr>\n",
       "    <tr>\n",
       "      <th>D</th>\n",
       "      <td>0.338599</td>\n",
       "      <td>-0.196020</td>\n",
       "      <td>-0.120254</td>\n",
       "      <td>1.032870</td>\n",
       "      <td>0.552161</td>\n",
       "      <td>1.067135</td>\n",
       "    </tr>\n",
       "  </tbody>\n",
       "</table>\n",
       "</div>"
      ],
      "text/plain": [
       "   2013-01-01  2013-01-02  2013-01-03  2013-01-04  2013-01-05  2013-01-06\n",
       "A   -0.605636    0.441679    0.079163    1.058826   -0.309411    0.131366\n",
       "B    0.093479   -0.531593   -0.450454    0.572905    0.341118   -0.444303\n",
       "C   -0.516261   -1.183277   -0.867765    1.720068    1.457555   -2.290952\n",
       "D    0.338599   -0.196020   -0.120254    1.032870    0.552161    1.067135"
      ]
     },
     "execution_count": 21,
     "metadata": {},
     "output_type": "execute_result"
    }
   ],
   "source": [
    "df.T"
   ]
  },
  {
   "cell_type": "markdown",
   "id": "74b2bf75",
   "metadata": {},
   "source": [
    "# Sorting methods "
   ]
  },
  {
   "cell_type": "code",
   "execution_count": 22,
   "id": "7f573b3a",
   "metadata": {},
   "outputs": [
    {
     "data": {
      "text/html": [
       "<div>\n",
       "<style scoped>\n",
       "    .dataframe tbody tr th:only-of-type {\n",
       "        vertical-align: middle;\n",
       "    }\n",
       "\n",
       "    .dataframe tbody tr th {\n",
       "        vertical-align: top;\n",
       "    }\n",
       "\n",
       "    .dataframe thead th {\n",
       "        text-align: right;\n",
       "    }\n",
       "</style>\n",
       "<table border=\"1\" class=\"dataframe\">\n",
       "  <thead>\n",
       "    <tr style=\"text-align: right;\">\n",
       "      <th></th>\n",
       "      <th>A</th>\n",
       "      <th>B</th>\n",
       "      <th>C</th>\n",
       "      <th>D</th>\n",
       "    </tr>\n",
       "  </thead>\n",
       "  <tbody>\n",
       "    <tr>\n",
       "      <th>2013-01-01</th>\n",
       "      <td>-0.605636</td>\n",
       "      <td>0.093479</td>\n",
       "      <td>-0.516261</td>\n",
       "      <td>0.338599</td>\n",
       "    </tr>\n",
       "    <tr>\n",
       "      <th>2013-01-02</th>\n",
       "      <td>0.441679</td>\n",
       "      <td>-0.531593</td>\n",
       "      <td>-1.183277</td>\n",
       "      <td>-0.196020</td>\n",
       "    </tr>\n",
       "    <tr>\n",
       "      <th>2013-01-03</th>\n",
       "      <td>0.079163</td>\n",
       "      <td>-0.450454</td>\n",
       "      <td>-0.867765</td>\n",
       "      <td>-0.120254</td>\n",
       "    </tr>\n",
       "    <tr>\n",
       "      <th>2013-01-04</th>\n",
       "      <td>1.058826</td>\n",
       "      <td>0.572905</td>\n",
       "      <td>1.720068</td>\n",
       "      <td>1.032870</td>\n",
       "    </tr>\n",
       "    <tr>\n",
       "      <th>2013-01-05</th>\n",
       "      <td>-0.309411</td>\n",
       "      <td>0.341118</td>\n",
       "      <td>1.457555</td>\n",
       "      <td>0.552161</td>\n",
       "    </tr>\n",
       "    <tr>\n",
       "      <th>2013-01-06</th>\n",
       "      <td>0.131366</td>\n",
       "      <td>-0.444303</td>\n",
       "      <td>-2.290952</td>\n",
       "      <td>1.067135</td>\n",
       "    </tr>\n",
       "  </tbody>\n",
       "</table>\n",
       "</div>"
      ],
      "text/plain": [
       "                   A         B         C         D\n",
       "2013-01-01 -0.605636  0.093479 -0.516261  0.338599\n",
       "2013-01-02  0.441679 -0.531593 -1.183277 -0.196020\n",
       "2013-01-03  0.079163 -0.450454 -0.867765 -0.120254\n",
       "2013-01-04  1.058826  0.572905  1.720068  1.032870\n",
       "2013-01-05 -0.309411  0.341118  1.457555  0.552161\n",
       "2013-01-06  0.131366 -0.444303 -2.290952  1.067135"
      ]
     },
     "execution_count": 22,
     "metadata": {},
     "output_type": "execute_result"
    }
   ],
   "source": [
    "df"
   ]
  },
  {
   "cell_type": "code",
   "execution_count": 23,
   "id": "a857f623",
   "metadata": {},
   "outputs": [],
   "source": [
    "# Row- wise sorting"
   ]
  },
  {
   "cell_type": "code",
   "execution_count": 24,
   "id": "42707431",
   "metadata": {},
   "outputs": [
    {
     "data": {
      "text/html": [
       "<div>\n",
       "<style scoped>\n",
       "    .dataframe tbody tr th:only-of-type {\n",
       "        vertical-align: middle;\n",
       "    }\n",
       "\n",
       "    .dataframe tbody tr th {\n",
       "        vertical-align: top;\n",
       "    }\n",
       "\n",
       "    .dataframe thead th {\n",
       "        text-align: right;\n",
       "    }\n",
       "</style>\n",
       "<table border=\"1\" class=\"dataframe\">\n",
       "  <thead>\n",
       "    <tr style=\"text-align: right;\">\n",
       "      <th></th>\n",
       "      <th>A</th>\n",
       "      <th>B</th>\n",
       "      <th>C</th>\n",
       "      <th>D</th>\n",
       "    </tr>\n",
       "  </thead>\n",
       "  <tbody>\n",
       "    <tr>\n",
       "      <th>2013-01-06</th>\n",
       "      <td>0.131366</td>\n",
       "      <td>-0.444303</td>\n",
       "      <td>-2.290952</td>\n",
       "      <td>1.067135</td>\n",
       "    </tr>\n",
       "    <tr>\n",
       "      <th>2013-01-05</th>\n",
       "      <td>-0.309411</td>\n",
       "      <td>0.341118</td>\n",
       "      <td>1.457555</td>\n",
       "      <td>0.552161</td>\n",
       "    </tr>\n",
       "    <tr>\n",
       "      <th>2013-01-04</th>\n",
       "      <td>1.058826</td>\n",
       "      <td>0.572905</td>\n",
       "      <td>1.720068</td>\n",
       "      <td>1.032870</td>\n",
       "    </tr>\n",
       "    <tr>\n",
       "      <th>2013-01-03</th>\n",
       "      <td>0.079163</td>\n",
       "      <td>-0.450454</td>\n",
       "      <td>-0.867765</td>\n",
       "      <td>-0.120254</td>\n",
       "    </tr>\n",
       "    <tr>\n",
       "      <th>2013-01-02</th>\n",
       "      <td>0.441679</td>\n",
       "      <td>-0.531593</td>\n",
       "      <td>-1.183277</td>\n",
       "      <td>-0.196020</td>\n",
       "    </tr>\n",
       "    <tr>\n",
       "      <th>2013-01-01</th>\n",
       "      <td>-0.605636</td>\n",
       "      <td>0.093479</td>\n",
       "      <td>-0.516261</td>\n",
       "      <td>0.338599</td>\n",
       "    </tr>\n",
       "  </tbody>\n",
       "</table>\n",
       "</div>"
      ],
      "text/plain": [
       "                   A         B         C         D\n",
       "2013-01-06  0.131366 -0.444303 -2.290952  1.067135\n",
       "2013-01-05 -0.309411  0.341118  1.457555  0.552161\n",
       "2013-01-04  1.058826  0.572905  1.720068  1.032870\n",
       "2013-01-03  0.079163 -0.450454 -0.867765 -0.120254\n",
       "2013-01-02  0.441679 -0.531593 -1.183277 -0.196020\n",
       "2013-01-01 -0.605636  0.093479 -0.516261  0.338599"
      ]
     },
     "execution_count": 24,
     "metadata": {},
     "output_type": "execute_result"
    }
   ],
   "source": [
    "df.sort_index(axis = 0, ascending=False)"
   ]
  },
  {
   "cell_type": "code",
   "execution_count": 25,
   "id": "0d6e624f",
   "metadata": {},
   "outputs": [],
   "source": [
    "# column-wise sorting"
   ]
  },
  {
   "cell_type": "code",
   "execution_count": 26,
   "id": "5aaf944a",
   "metadata": {},
   "outputs": [
    {
     "data": {
      "text/html": [
       "<div>\n",
       "<style scoped>\n",
       "    .dataframe tbody tr th:only-of-type {\n",
       "        vertical-align: middle;\n",
       "    }\n",
       "\n",
       "    .dataframe tbody tr th {\n",
       "        vertical-align: top;\n",
       "    }\n",
       "\n",
       "    .dataframe thead th {\n",
       "        text-align: right;\n",
       "    }\n",
       "</style>\n",
       "<table border=\"1\" class=\"dataframe\">\n",
       "  <thead>\n",
       "    <tr style=\"text-align: right;\">\n",
       "      <th></th>\n",
       "      <th>D</th>\n",
       "      <th>C</th>\n",
       "      <th>B</th>\n",
       "      <th>A</th>\n",
       "    </tr>\n",
       "  </thead>\n",
       "  <tbody>\n",
       "    <tr>\n",
       "      <th>2013-01-01</th>\n",
       "      <td>0.338599</td>\n",
       "      <td>-0.516261</td>\n",
       "      <td>0.093479</td>\n",
       "      <td>-0.605636</td>\n",
       "    </tr>\n",
       "    <tr>\n",
       "      <th>2013-01-02</th>\n",
       "      <td>-0.196020</td>\n",
       "      <td>-1.183277</td>\n",
       "      <td>-0.531593</td>\n",
       "      <td>0.441679</td>\n",
       "    </tr>\n",
       "    <tr>\n",
       "      <th>2013-01-03</th>\n",
       "      <td>-0.120254</td>\n",
       "      <td>-0.867765</td>\n",
       "      <td>-0.450454</td>\n",
       "      <td>0.079163</td>\n",
       "    </tr>\n",
       "    <tr>\n",
       "      <th>2013-01-04</th>\n",
       "      <td>1.032870</td>\n",
       "      <td>1.720068</td>\n",
       "      <td>0.572905</td>\n",
       "      <td>1.058826</td>\n",
       "    </tr>\n",
       "    <tr>\n",
       "      <th>2013-01-05</th>\n",
       "      <td>0.552161</td>\n",
       "      <td>1.457555</td>\n",
       "      <td>0.341118</td>\n",
       "      <td>-0.309411</td>\n",
       "    </tr>\n",
       "    <tr>\n",
       "      <th>2013-01-06</th>\n",
       "      <td>1.067135</td>\n",
       "      <td>-2.290952</td>\n",
       "      <td>-0.444303</td>\n",
       "      <td>0.131366</td>\n",
       "    </tr>\n",
       "  </tbody>\n",
       "</table>\n",
       "</div>"
      ],
      "text/plain": [
       "                   D         C         B         A\n",
       "2013-01-01  0.338599 -0.516261  0.093479 -0.605636\n",
       "2013-01-02 -0.196020 -1.183277 -0.531593  0.441679\n",
       "2013-01-03 -0.120254 -0.867765 -0.450454  0.079163\n",
       "2013-01-04  1.032870  1.720068  0.572905  1.058826\n",
       "2013-01-05  0.552161  1.457555  0.341118 -0.309411\n",
       "2013-01-06  1.067135 -2.290952 -0.444303  0.131366"
      ]
     },
     "execution_count": 26,
     "metadata": {},
     "output_type": "execute_result"
    }
   ],
   "source": [
    "df.sort_index(axis=1, ascending=False)"
   ]
  },
  {
   "cell_type": "code",
   "execution_count": 27,
   "id": "af9dea76",
   "metadata": {},
   "outputs": [],
   "source": [
    "# sorting by values"
   ]
  },
  {
   "cell_type": "code",
   "execution_count": 28,
   "id": "b199a247",
   "metadata": {},
   "outputs": [
    {
     "data": {
      "text/html": [
       "<div>\n",
       "<style scoped>\n",
       "    .dataframe tbody tr th:only-of-type {\n",
       "        vertical-align: middle;\n",
       "    }\n",
       "\n",
       "    .dataframe tbody tr th {\n",
       "        vertical-align: top;\n",
       "    }\n",
       "\n",
       "    .dataframe thead th {\n",
       "        text-align: right;\n",
       "    }\n",
       "</style>\n",
       "<table border=\"1\" class=\"dataframe\">\n",
       "  <thead>\n",
       "    <tr style=\"text-align: right;\">\n",
       "      <th></th>\n",
       "      <th>A</th>\n",
       "      <th>B</th>\n",
       "      <th>C</th>\n",
       "      <th>D</th>\n",
       "    </tr>\n",
       "  </thead>\n",
       "  <tbody>\n",
       "    <tr>\n",
       "      <th>2013-01-02</th>\n",
       "      <td>0.441679</td>\n",
       "      <td>-0.531593</td>\n",
       "      <td>-1.183277</td>\n",
       "      <td>-0.196020</td>\n",
       "    </tr>\n",
       "    <tr>\n",
       "      <th>2013-01-03</th>\n",
       "      <td>0.079163</td>\n",
       "      <td>-0.450454</td>\n",
       "      <td>-0.867765</td>\n",
       "      <td>-0.120254</td>\n",
       "    </tr>\n",
       "    <tr>\n",
       "      <th>2013-01-06</th>\n",
       "      <td>0.131366</td>\n",
       "      <td>-0.444303</td>\n",
       "      <td>-2.290952</td>\n",
       "      <td>1.067135</td>\n",
       "    </tr>\n",
       "    <tr>\n",
       "      <th>2013-01-01</th>\n",
       "      <td>-0.605636</td>\n",
       "      <td>0.093479</td>\n",
       "      <td>-0.516261</td>\n",
       "      <td>0.338599</td>\n",
       "    </tr>\n",
       "    <tr>\n",
       "      <th>2013-01-05</th>\n",
       "      <td>-0.309411</td>\n",
       "      <td>0.341118</td>\n",
       "      <td>1.457555</td>\n",
       "      <td>0.552161</td>\n",
       "    </tr>\n",
       "    <tr>\n",
       "      <th>2013-01-04</th>\n",
       "      <td>1.058826</td>\n",
       "      <td>0.572905</td>\n",
       "      <td>1.720068</td>\n",
       "      <td>1.032870</td>\n",
       "    </tr>\n",
       "  </tbody>\n",
       "</table>\n",
       "</div>"
      ],
      "text/plain": [
       "                   A         B         C         D\n",
       "2013-01-02  0.441679 -0.531593 -1.183277 -0.196020\n",
       "2013-01-03  0.079163 -0.450454 -0.867765 -0.120254\n",
       "2013-01-06  0.131366 -0.444303 -2.290952  1.067135\n",
       "2013-01-01 -0.605636  0.093479 -0.516261  0.338599\n",
       "2013-01-05 -0.309411  0.341118  1.457555  0.552161\n",
       "2013-01-04  1.058826  0.572905  1.720068  1.032870"
      ]
     },
     "execution_count": 28,
     "metadata": {},
     "output_type": "execute_result"
    }
   ],
   "source": [
    "df.sort_values(by='B')"
   ]
  },
  {
   "cell_type": "markdown",
   "id": "5715de79",
   "metadata": {},
   "source": [
    "# Selection "
   ]
  },
  {
   "cell_type": "code",
   "execution_count": 29,
   "id": "2698c5d7",
   "metadata": {},
   "outputs": [],
   "source": [
    "# .at, .iat, .loc, .iloc"
   ]
  },
  {
   "cell_type": "code",
   "execution_count": 30,
   "id": "26187689",
   "metadata": {},
   "outputs": [
    {
     "data": {
      "text/plain": [
       "2013-01-01   -0.605636\n",
       "2013-01-02    0.441679\n",
       "2013-01-03    0.079163\n",
       "2013-01-04    1.058826\n",
       "2013-01-05   -0.309411\n",
       "2013-01-06    0.131366\n",
       "Freq: D, Name: A, dtype: float64"
      ]
     },
     "execution_count": 30,
     "metadata": {},
     "output_type": "execute_result"
    }
   ],
   "source": [
    "# selecting a single column (which yields a Series, equivalent to df.A)\n",
    "df['A']"
   ]
  },
  {
   "cell_type": "code",
   "execution_count": 31,
   "id": "ebe48a07",
   "metadata": {},
   "outputs": [
    {
     "data": {
      "text/html": [
       "<div>\n",
       "<style scoped>\n",
       "    .dataframe tbody tr th:only-of-type {\n",
       "        vertical-align: middle;\n",
       "    }\n",
       "\n",
       "    .dataframe tbody tr th {\n",
       "        vertical-align: top;\n",
       "    }\n",
       "\n",
       "    .dataframe thead th {\n",
       "        text-align: right;\n",
       "    }\n",
       "</style>\n",
       "<table border=\"1\" class=\"dataframe\">\n",
       "  <thead>\n",
       "    <tr style=\"text-align: right;\">\n",
       "      <th></th>\n",
       "      <th>A</th>\n",
       "      <th>B</th>\n",
       "      <th>C</th>\n",
       "      <th>D</th>\n",
       "    </tr>\n",
       "  </thead>\n",
       "  <tbody>\n",
       "    <tr>\n",
       "      <th>2013-01-01</th>\n",
       "      <td>-0.605636</td>\n",
       "      <td>0.093479</td>\n",
       "      <td>-0.516261</td>\n",
       "      <td>0.338599</td>\n",
       "    </tr>\n",
       "    <tr>\n",
       "      <th>2013-01-02</th>\n",
       "      <td>0.441679</td>\n",
       "      <td>-0.531593</td>\n",
       "      <td>-1.183277</td>\n",
       "      <td>-0.196020</td>\n",
       "    </tr>\n",
       "    <tr>\n",
       "      <th>2013-01-03</th>\n",
       "      <td>0.079163</td>\n",
       "      <td>-0.450454</td>\n",
       "      <td>-0.867765</td>\n",
       "      <td>-0.120254</td>\n",
       "    </tr>\n",
       "  </tbody>\n",
       "</table>\n",
       "</div>"
      ],
      "text/plain": [
       "                   A         B         C         D\n",
       "2013-01-01 -0.605636  0.093479 -0.516261  0.338599\n",
       "2013-01-02  0.441679 -0.531593 -1.183277 -0.196020\n",
       "2013-01-03  0.079163 -0.450454 -0.867765 -0.120254"
      ]
     },
     "execution_count": 31,
     "metadata": {},
     "output_type": "execute_result"
    }
   ],
   "source": [
    "# selecting via [rows], which slices the rows (all column included)\n",
    "df[0:3]"
   ]
  },
  {
   "cell_type": "code",
   "execution_count": 32,
   "id": "dcca3439",
   "metadata": {},
   "outputs": [
    {
     "data": {
      "text/html": [
       "<div>\n",
       "<style scoped>\n",
       "    .dataframe tbody tr th:only-of-type {\n",
       "        vertical-align: middle;\n",
       "    }\n",
       "\n",
       "    .dataframe tbody tr th {\n",
       "        vertical-align: top;\n",
       "    }\n",
       "\n",
       "    .dataframe thead th {\n",
       "        text-align: right;\n",
       "    }\n",
       "</style>\n",
       "<table border=\"1\" class=\"dataframe\">\n",
       "  <thead>\n",
       "    <tr style=\"text-align: right;\">\n",
       "      <th></th>\n",
       "      <th>A</th>\n",
       "      <th>B</th>\n",
       "      <th>C</th>\n",
       "      <th>D</th>\n",
       "    </tr>\n",
       "  </thead>\n",
       "  <tbody>\n",
       "    <tr>\n",
       "      <th>2013-01-01</th>\n",
       "      <td>-0.605636</td>\n",
       "      <td>0.093479</td>\n",
       "      <td>-0.516261</td>\n",
       "      <td>0.338599</td>\n",
       "    </tr>\n",
       "    <tr>\n",
       "      <th>2013-01-02</th>\n",
       "      <td>0.441679</td>\n",
       "      <td>-0.531593</td>\n",
       "      <td>-1.183277</td>\n",
       "      <td>-0.196020</td>\n",
       "    </tr>\n",
       "    <tr>\n",
       "      <th>2013-01-03</th>\n",
       "      <td>0.079163</td>\n",
       "      <td>-0.450454</td>\n",
       "      <td>-0.867765</td>\n",
       "      <td>-0.120254</td>\n",
       "    </tr>\n",
       "    <tr>\n",
       "      <th>2013-01-04</th>\n",
       "      <td>1.058826</td>\n",
       "      <td>0.572905</td>\n",
       "      <td>1.720068</td>\n",
       "      <td>1.032870</td>\n",
       "    </tr>\n",
       "  </tbody>\n",
       "</table>\n",
       "</div>"
      ],
      "text/plain": [
       "                   A         B         C         D\n",
       "2013-01-01 -0.605636  0.093479 -0.516261  0.338599\n",
       "2013-01-02  0.441679 -0.531593 -1.183277 -0.196020\n",
       "2013-01-03  0.079163 -0.450454 -0.867765 -0.120254\n",
       "2013-01-04  1.058826  0.572905  1.720068  1.032870"
      ]
     },
     "execution_count": 32,
     "metadata": {},
     "output_type": "execute_result"
    }
   ],
   "source": [
    "df['20130101': '20130104']"
   ]
  },
  {
   "cell_type": "code",
   "execution_count": 33,
   "id": "699a40cf",
   "metadata": {},
   "outputs": [
    {
     "data": {
      "text/plain": [
       "A   -0.605636\n",
       "B    0.093479\n",
       "C   -0.516261\n",
       "D    0.338599\n",
       "Name: 2013-01-01 00:00:00, dtype: float64"
      ]
     },
     "execution_count": 33,
     "metadata": {},
     "output_type": "execute_result"
    }
   ],
   "source": [
    "# selection by label\n",
    "df.loc[dates[0]]"
   ]
  },
  {
   "cell_type": "code",
   "execution_count": 34,
   "id": "01ac1063",
   "metadata": {},
   "outputs": [
    {
     "data": {
      "text/html": [
       "<div>\n",
       "<style scoped>\n",
       "    .dataframe tbody tr th:only-of-type {\n",
       "        vertical-align: middle;\n",
       "    }\n",
       "\n",
       "    .dataframe tbody tr th {\n",
       "        vertical-align: top;\n",
       "    }\n",
       "\n",
       "    .dataframe thead th {\n",
       "        text-align: right;\n",
       "    }\n",
       "</style>\n",
       "<table border=\"1\" class=\"dataframe\">\n",
       "  <thead>\n",
       "    <tr style=\"text-align: right;\">\n",
       "      <th></th>\n",
       "      <th>A</th>\n",
       "      <th>C</th>\n",
       "    </tr>\n",
       "  </thead>\n",
       "  <tbody>\n",
       "    <tr>\n",
       "      <th>2013-01-01</th>\n",
       "      <td>-0.605636</td>\n",
       "      <td>-0.516261</td>\n",
       "    </tr>\n",
       "    <tr>\n",
       "      <th>2013-01-02</th>\n",
       "      <td>0.441679</td>\n",
       "      <td>-1.183277</td>\n",
       "    </tr>\n",
       "    <tr>\n",
       "      <th>2013-01-03</th>\n",
       "      <td>0.079163</td>\n",
       "      <td>-0.867765</td>\n",
       "    </tr>\n",
       "    <tr>\n",
       "      <th>2013-01-04</th>\n",
       "      <td>1.058826</td>\n",
       "      <td>1.720068</td>\n",
       "    </tr>\n",
       "    <tr>\n",
       "      <th>2013-01-05</th>\n",
       "      <td>-0.309411</td>\n",
       "      <td>1.457555</td>\n",
       "    </tr>\n",
       "    <tr>\n",
       "      <th>2013-01-06</th>\n",
       "      <td>0.131366</td>\n",
       "      <td>-2.290952</td>\n",
       "    </tr>\n",
       "  </tbody>\n",
       "</table>\n",
       "</div>"
      ],
      "text/plain": [
       "                   A         C\n",
       "2013-01-01 -0.605636 -0.516261\n",
       "2013-01-02  0.441679 -1.183277\n",
       "2013-01-03  0.079163 -0.867765\n",
       "2013-01-04  1.058826  1.720068\n",
       "2013-01-05 -0.309411  1.457555\n",
       "2013-01-06  0.131366 -2.290952"
      ]
     },
     "execution_count": 34,
     "metadata": {},
     "output_type": "execute_result"
    }
   ],
   "source": [
    "df.loc[:, ['A', 'C']]"
   ]
  },
  {
   "cell_type": "code",
   "execution_count": 35,
   "id": "8e9cfe76",
   "metadata": {},
   "outputs": [
    {
     "data": {
      "text/html": [
       "<div>\n",
       "<style scoped>\n",
       "    .dataframe tbody tr th:only-of-type {\n",
       "        vertical-align: middle;\n",
       "    }\n",
       "\n",
       "    .dataframe tbody tr th {\n",
       "        vertical-align: top;\n",
       "    }\n",
       "\n",
       "    .dataframe thead th {\n",
       "        text-align: right;\n",
       "    }\n",
       "</style>\n",
       "<table border=\"1\" class=\"dataframe\">\n",
       "  <thead>\n",
       "    <tr style=\"text-align: right;\">\n",
       "      <th></th>\n",
       "      <th>A</th>\n",
       "      <th>B</th>\n",
       "    </tr>\n",
       "  </thead>\n",
       "  <tbody>\n",
       "    <tr>\n",
       "      <th>2013-01-02</th>\n",
       "      <td>0.441679</td>\n",
       "      <td>-0.531593</td>\n",
       "    </tr>\n",
       "    <tr>\n",
       "      <th>2013-01-03</th>\n",
       "      <td>0.079163</td>\n",
       "      <td>-0.450454</td>\n",
       "    </tr>\n",
       "    <tr>\n",
       "      <th>2013-01-04</th>\n",
       "      <td>1.058826</td>\n",
       "      <td>0.572905</td>\n",
       "    </tr>\n",
       "  </tbody>\n",
       "</table>\n",
       "</div>"
      ],
      "text/plain": [
       "                   A         B\n",
       "2013-01-02  0.441679 -0.531593\n",
       "2013-01-03  0.079163 -0.450454\n",
       "2013-01-04  1.058826  0.572905"
      ]
     },
     "execution_count": 35,
     "metadata": {},
     "output_type": "execute_result"
    }
   ],
   "source": [
    "df.loc[\"20130102\":\"20130104\", [\"A\", \"B\"]]"
   ]
  },
  {
   "cell_type": "code",
   "execution_count": 36,
   "id": "2be1c1b1",
   "metadata": {},
   "outputs": [
    {
     "data": {
      "text/plain": [
       "-0.6056355472910887"
      ]
     },
     "execution_count": 36,
     "metadata": {},
     "output_type": "execute_result"
    }
   ],
   "source": [
    "# for getting a scalar value\n",
    "df.loc[dates[0], 'A']"
   ]
  },
  {
   "cell_type": "code",
   "execution_count": 37,
   "id": "76f83fb0",
   "metadata": {},
   "outputs": [
    {
     "data": {
      "text/plain": [
       "-0.6056355472910887"
      ]
     },
     "execution_count": 37,
     "metadata": {},
     "output_type": "execute_result"
    }
   ],
   "source": [
    "# for getting fast access to a scalar (equivalent to the prior method)\n",
    "df.at[dates[0], 'A']"
   ]
  },
  {
   "cell_type": "code",
   "execution_count": 38,
   "id": "27a98924",
   "metadata": {},
   "outputs": [
    {
     "data": {
      "text/plain": [
       "A    1.058826\n",
       "B    0.572905\n",
       "C    1.720068\n",
       "D    1.032870\n",
       "Name: 2013-01-04 00:00:00, dtype: float64"
      ]
     },
     "execution_count": 38,
     "metadata": {},
     "output_type": "execute_result"
    }
   ],
   "source": [
    "# selection by position\n",
    "df.iloc[3]"
   ]
  },
  {
   "cell_type": "code",
   "execution_count": 39,
   "id": "cca349b8",
   "metadata": {},
   "outputs": [
    {
     "data": {
      "text/html": [
       "<div>\n",
       "<style scoped>\n",
       "    .dataframe tbody tr th:only-of-type {\n",
       "        vertical-align: middle;\n",
       "    }\n",
       "\n",
       "    .dataframe tbody tr th {\n",
       "        vertical-align: top;\n",
       "    }\n",
       "\n",
       "    .dataframe thead th {\n",
       "        text-align: right;\n",
       "    }\n",
       "</style>\n",
       "<table border=\"1\" class=\"dataframe\">\n",
       "  <thead>\n",
       "    <tr style=\"text-align: right;\">\n",
       "      <th></th>\n",
       "      <th>A</th>\n",
       "      <th>B</th>\n",
       "    </tr>\n",
       "  </thead>\n",
       "  <tbody>\n",
       "    <tr>\n",
       "      <th>2013-01-04</th>\n",
       "      <td>1.058826</td>\n",
       "      <td>0.572905</td>\n",
       "    </tr>\n",
       "    <tr>\n",
       "      <th>2013-01-05</th>\n",
       "      <td>-0.309411</td>\n",
       "      <td>0.341118</td>\n",
       "    </tr>\n",
       "  </tbody>\n",
       "</table>\n",
       "</div>"
      ],
      "text/plain": [
       "                   A         B\n",
       "2013-01-04  1.058826  0.572905\n",
       "2013-01-05 -0.309411  0.341118"
      ]
     },
     "execution_count": 39,
     "metadata": {},
     "output_type": "execute_result"
    }
   ],
   "source": [
    "df.iloc[3:5, 0:2]"
   ]
  },
  {
   "cell_type": "code",
   "execution_count": 40,
   "id": "18d2b720",
   "metadata": {},
   "outputs": [
    {
     "data": {
      "text/html": [
       "<div>\n",
       "<style scoped>\n",
       "    .dataframe tbody tr th:only-of-type {\n",
       "        vertical-align: middle;\n",
       "    }\n",
       "\n",
       "    .dataframe tbody tr th {\n",
       "        vertical-align: top;\n",
       "    }\n",
       "\n",
       "    .dataframe thead th {\n",
       "        text-align: right;\n",
       "    }\n",
       "</style>\n",
       "<table border=\"1\" class=\"dataframe\">\n",
       "  <thead>\n",
       "    <tr style=\"text-align: right;\">\n",
       "      <th></th>\n",
       "      <th>A</th>\n",
       "      <th>C</th>\n",
       "    </tr>\n",
       "  </thead>\n",
       "  <tbody>\n",
       "    <tr>\n",
       "      <th>2013-01-02</th>\n",
       "      <td>0.441679</td>\n",
       "      <td>-1.183277</td>\n",
       "    </tr>\n",
       "    <tr>\n",
       "      <th>2013-01-04</th>\n",
       "      <td>1.058826</td>\n",
       "      <td>1.720068</td>\n",
       "    </tr>\n",
       "    <tr>\n",
       "      <th>2013-01-06</th>\n",
       "      <td>0.131366</td>\n",
       "      <td>-2.290952</td>\n",
       "    </tr>\n",
       "  </tbody>\n",
       "</table>\n",
       "</div>"
      ],
      "text/plain": [
       "                   A         C\n",
       "2013-01-02  0.441679 -1.183277\n",
       "2013-01-04  1.058826  1.720068\n",
       "2013-01-06  0.131366 -2.290952"
      ]
     },
     "execution_count": 40,
     "metadata": {},
     "output_type": "execute_result"
    }
   ],
   "source": [
    "df.iloc[[1,3,5], [0, 2]]"
   ]
  },
  {
   "cell_type": "code",
   "execution_count": 41,
   "id": "06873193",
   "metadata": {},
   "outputs": [
    {
     "data": {
      "text/plain": [
       "-0.5315932018294408"
      ]
     },
     "execution_count": 41,
     "metadata": {},
     "output_type": "execute_result"
    }
   ],
   "source": [
    "# for getting a value explicitly\n",
    "df.iloc[1, 1]"
   ]
  },
  {
   "cell_type": "code",
   "execution_count": 42,
   "id": "4e5a0156",
   "metadata": {},
   "outputs": [
    {
     "data": {
      "text/plain": [
       "-0.5315932018294408"
      ]
     },
     "execution_count": 42,
     "metadata": {},
     "output_type": "execute_result"
    }
   ],
   "source": [
    "# for getting fast access to a scalar (equivalent to the prior method)\n",
    "df.iat[1, 1]"
   ]
  },
  {
   "cell_type": "markdown",
   "id": "c0641877",
   "metadata": {},
   "source": [
    "# boolean indexing "
   ]
  },
  {
   "cell_type": "code",
   "execution_count": 43,
   "id": "efba486c",
   "metadata": {},
   "outputs": [
    {
     "data": {
      "text/html": [
       "<div>\n",
       "<style scoped>\n",
       "    .dataframe tbody tr th:only-of-type {\n",
       "        vertical-align: middle;\n",
       "    }\n",
       "\n",
       "    .dataframe tbody tr th {\n",
       "        vertical-align: top;\n",
       "    }\n",
       "\n",
       "    .dataframe thead th {\n",
       "        text-align: right;\n",
       "    }\n",
       "</style>\n",
       "<table border=\"1\" class=\"dataframe\">\n",
       "  <thead>\n",
       "    <tr style=\"text-align: right;\">\n",
       "      <th></th>\n",
       "      <th>A</th>\n",
       "      <th>B</th>\n",
       "      <th>C</th>\n",
       "      <th>D</th>\n",
       "    </tr>\n",
       "  </thead>\n",
       "  <tbody>\n",
       "    <tr>\n",
       "      <th>2013-01-01</th>\n",
       "      <td>-0.605636</td>\n",
       "      <td>0.093479</td>\n",
       "      <td>-0.516261</td>\n",
       "      <td>0.338599</td>\n",
       "    </tr>\n",
       "    <tr>\n",
       "      <th>2013-01-02</th>\n",
       "      <td>0.441679</td>\n",
       "      <td>-0.531593</td>\n",
       "      <td>-1.183277</td>\n",
       "      <td>-0.196020</td>\n",
       "    </tr>\n",
       "    <tr>\n",
       "      <th>2013-01-03</th>\n",
       "      <td>0.079163</td>\n",
       "      <td>-0.450454</td>\n",
       "      <td>-0.867765</td>\n",
       "      <td>-0.120254</td>\n",
       "    </tr>\n",
       "    <tr>\n",
       "      <th>2013-01-04</th>\n",
       "      <td>1.058826</td>\n",
       "      <td>0.572905</td>\n",
       "      <td>1.720068</td>\n",
       "      <td>1.032870</td>\n",
       "    </tr>\n",
       "    <tr>\n",
       "      <th>2013-01-05</th>\n",
       "      <td>-0.309411</td>\n",
       "      <td>0.341118</td>\n",
       "      <td>1.457555</td>\n",
       "      <td>0.552161</td>\n",
       "    </tr>\n",
       "    <tr>\n",
       "      <th>2013-01-06</th>\n",
       "      <td>0.131366</td>\n",
       "      <td>-0.444303</td>\n",
       "      <td>-2.290952</td>\n",
       "      <td>1.067135</td>\n",
       "    </tr>\n",
       "  </tbody>\n",
       "</table>\n",
       "</div>"
      ],
      "text/plain": [
       "                   A         B         C         D\n",
       "2013-01-01 -0.605636  0.093479 -0.516261  0.338599\n",
       "2013-01-02  0.441679 -0.531593 -1.183277 -0.196020\n",
       "2013-01-03  0.079163 -0.450454 -0.867765 -0.120254\n",
       "2013-01-04  1.058826  0.572905  1.720068  1.032870\n",
       "2013-01-05 -0.309411  0.341118  1.457555  0.552161\n",
       "2013-01-06  0.131366 -0.444303 -2.290952  1.067135"
      ]
     },
     "execution_count": 43,
     "metadata": {},
     "output_type": "execute_result"
    }
   ],
   "source": [
    "df"
   ]
  },
  {
   "cell_type": "code",
   "execution_count": 44,
   "id": "ea774d52",
   "metadata": {},
   "outputs": [
    {
     "data": {
      "text/html": [
       "<div>\n",
       "<style scoped>\n",
       "    .dataframe tbody tr th:only-of-type {\n",
       "        vertical-align: middle;\n",
       "    }\n",
       "\n",
       "    .dataframe tbody tr th {\n",
       "        vertical-align: top;\n",
       "    }\n",
       "\n",
       "    .dataframe thead th {\n",
       "        text-align: right;\n",
       "    }\n",
       "</style>\n",
       "<table border=\"1\" class=\"dataframe\">\n",
       "  <thead>\n",
       "    <tr style=\"text-align: right;\">\n",
       "      <th></th>\n",
       "      <th>A</th>\n",
       "      <th>B</th>\n",
       "      <th>C</th>\n",
       "      <th>D</th>\n",
       "    </tr>\n",
       "  </thead>\n",
       "  <tbody>\n",
       "    <tr>\n",
       "      <th>2013-01-02</th>\n",
       "      <td>0.441679</td>\n",
       "      <td>-0.531593</td>\n",
       "      <td>-1.183277</td>\n",
       "      <td>-0.196020</td>\n",
       "    </tr>\n",
       "    <tr>\n",
       "      <th>2013-01-03</th>\n",
       "      <td>0.079163</td>\n",
       "      <td>-0.450454</td>\n",
       "      <td>-0.867765</td>\n",
       "      <td>-0.120254</td>\n",
       "    </tr>\n",
       "    <tr>\n",
       "      <th>2013-01-04</th>\n",
       "      <td>1.058826</td>\n",
       "      <td>0.572905</td>\n",
       "      <td>1.720068</td>\n",
       "      <td>1.032870</td>\n",
       "    </tr>\n",
       "    <tr>\n",
       "      <th>2013-01-06</th>\n",
       "      <td>0.131366</td>\n",
       "      <td>-0.444303</td>\n",
       "      <td>-2.290952</td>\n",
       "      <td>1.067135</td>\n",
       "    </tr>\n",
       "  </tbody>\n",
       "</table>\n",
       "</div>"
      ],
      "text/plain": [
       "                   A         B         C         D\n",
       "2013-01-02  0.441679 -0.531593 -1.183277 -0.196020\n",
       "2013-01-03  0.079163 -0.450454 -0.867765 -0.120254\n",
       "2013-01-04  1.058826  0.572905  1.720068  1.032870\n",
       "2013-01-06  0.131366 -0.444303 -2.290952  1.067135"
      ]
     },
     "execution_count": 44,
     "metadata": {},
     "output_type": "execute_result"
    }
   ],
   "source": [
    "# using a single column value to select data\n",
    "df[df['A']> 0]"
   ]
  },
  {
   "cell_type": "code",
   "execution_count": 45,
   "id": "080c1bc5",
   "metadata": {},
   "outputs": [
    {
     "data": {
      "text/html": [
       "<div>\n",
       "<style scoped>\n",
       "    .dataframe tbody tr th:only-of-type {\n",
       "        vertical-align: middle;\n",
       "    }\n",
       "\n",
       "    .dataframe tbody tr th {\n",
       "        vertical-align: top;\n",
       "    }\n",
       "\n",
       "    .dataframe thead th {\n",
       "        text-align: right;\n",
       "    }\n",
       "</style>\n",
       "<table border=\"1\" class=\"dataframe\">\n",
       "  <thead>\n",
       "    <tr style=\"text-align: right;\">\n",
       "      <th></th>\n",
       "      <th>A</th>\n",
       "      <th>B</th>\n",
       "      <th>C</th>\n",
       "      <th>D</th>\n",
       "    </tr>\n",
       "  </thead>\n",
       "  <tbody>\n",
       "    <tr>\n",
       "      <th>2013-01-01</th>\n",
       "      <td>NaN</td>\n",
       "      <td>0.093479</td>\n",
       "      <td>NaN</td>\n",
       "      <td>0.338599</td>\n",
       "    </tr>\n",
       "    <tr>\n",
       "      <th>2013-01-02</th>\n",
       "      <td>0.441679</td>\n",
       "      <td>NaN</td>\n",
       "      <td>NaN</td>\n",
       "      <td>NaN</td>\n",
       "    </tr>\n",
       "    <tr>\n",
       "      <th>2013-01-03</th>\n",
       "      <td>0.079163</td>\n",
       "      <td>NaN</td>\n",
       "      <td>NaN</td>\n",
       "      <td>NaN</td>\n",
       "    </tr>\n",
       "    <tr>\n",
       "      <th>2013-01-04</th>\n",
       "      <td>1.058826</td>\n",
       "      <td>0.572905</td>\n",
       "      <td>1.720068</td>\n",
       "      <td>1.032870</td>\n",
       "    </tr>\n",
       "    <tr>\n",
       "      <th>2013-01-05</th>\n",
       "      <td>NaN</td>\n",
       "      <td>0.341118</td>\n",
       "      <td>1.457555</td>\n",
       "      <td>0.552161</td>\n",
       "    </tr>\n",
       "    <tr>\n",
       "      <th>2013-01-06</th>\n",
       "      <td>0.131366</td>\n",
       "      <td>NaN</td>\n",
       "      <td>NaN</td>\n",
       "      <td>1.067135</td>\n",
       "    </tr>\n",
       "  </tbody>\n",
       "</table>\n",
       "</div>"
      ],
      "text/plain": [
       "                   A         B         C         D\n",
       "2013-01-01       NaN  0.093479       NaN  0.338599\n",
       "2013-01-02  0.441679       NaN       NaN       NaN\n",
       "2013-01-03  0.079163       NaN       NaN       NaN\n",
       "2013-01-04  1.058826  0.572905  1.720068  1.032870\n",
       "2013-01-05       NaN  0.341118  1.457555  0.552161\n",
       "2013-01-06  0.131366       NaN       NaN  1.067135"
      ]
     },
     "execution_count": 45,
     "metadata": {},
     "output_type": "execute_result"
    }
   ],
   "source": [
    "# selecting values from a DataFrame where a boolean condition is met\n",
    "df[df>0]"
   ]
  },
  {
   "cell_type": "markdown",
   "id": "7814d926",
   "metadata": {},
   "source": [
    "# isin() "
   ]
  },
  {
   "cell_type": "code",
   "execution_count": 46,
   "id": "80851f10",
   "metadata": {},
   "outputs": [
    {
     "data": {
      "text/html": [
       "<div>\n",
       "<style scoped>\n",
       "    .dataframe tbody tr th:only-of-type {\n",
       "        vertical-align: middle;\n",
       "    }\n",
       "\n",
       "    .dataframe tbody tr th {\n",
       "        vertical-align: top;\n",
       "    }\n",
       "\n",
       "    .dataframe thead th {\n",
       "        text-align: right;\n",
       "    }\n",
       "</style>\n",
       "<table border=\"1\" class=\"dataframe\">\n",
       "  <thead>\n",
       "    <tr style=\"text-align: right;\">\n",
       "      <th></th>\n",
       "      <th>A</th>\n",
       "      <th>B</th>\n",
       "      <th>C</th>\n",
       "      <th>D</th>\n",
       "      <th>E</th>\n",
       "    </tr>\n",
       "  </thead>\n",
       "  <tbody>\n",
       "    <tr>\n",
       "      <th>2013-01-01</th>\n",
       "      <td>-0.605636</td>\n",
       "      <td>0.093479</td>\n",
       "      <td>-0.516261</td>\n",
       "      <td>0.338599</td>\n",
       "      <td>one</td>\n",
       "    </tr>\n",
       "    <tr>\n",
       "      <th>2013-01-02</th>\n",
       "      <td>0.441679</td>\n",
       "      <td>-0.531593</td>\n",
       "      <td>-1.183277</td>\n",
       "      <td>-0.196020</td>\n",
       "      <td>one</td>\n",
       "    </tr>\n",
       "    <tr>\n",
       "      <th>2013-01-03</th>\n",
       "      <td>0.079163</td>\n",
       "      <td>-0.450454</td>\n",
       "      <td>-0.867765</td>\n",
       "      <td>-0.120254</td>\n",
       "      <td>two</td>\n",
       "    </tr>\n",
       "    <tr>\n",
       "      <th>2013-01-04</th>\n",
       "      <td>1.058826</td>\n",
       "      <td>0.572905</td>\n",
       "      <td>1.720068</td>\n",
       "      <td>1.032870</td>\n",
       "      <td>three</td>\n",
       "    </tr>\n",
       "    <tr>\n",
       "      <th>2013-01-05</th>\n",
       "      <td>-0.309411</td>\n",
       "      <td>0.341118</td>\n",
       "      <td>1.457555</td>\n",
       "      <td>0.552161</td>\n",
       "      <td>four</td>\n",
       "    </tr>\n",
       "    <tr>\n",
       "      <th>2013-01-06</th>\n",
       "      <td>0.131366</td>\n",
       "      <td>-0.444303</td>\n",
       "      <td>-2.290952</td>\n",
       "      <td>1.067135</td>\n",
       "      <td>three</td>\n",
       "    </tr>\n",
       "  </tbody>\n",
       "</table>\n",
       "</div>"
      ],
      "text/plain": [
       "                   A         B         C         D      E\n",
       "2013-01-01 -0.605636  0.093479 -0.516261  0.338599    one\n",
       "2013-01-02  0.441679 -0.531593 -1.183277 -0.196020    one\n",
       "2013-01-03  0.079163 -0.450454 -0.867765 -0.120254    two\n",
       "2013-01-04  1.058826  0.572905  1.720068  1.032870  three\n",
       "2013-01-05 -0.309411  0.341118  1.457555  0.552161   four\n",
       "2013-01-06  0.131366 -0.444303 -2.290952  1.067135  three"
      ]
     },
     "execution_count": 46,
     "metadata": {},
     "output_type": "execute_result"
    }
   ],
   "source": [
    "# used to select a certain category in the column\n",
    "df2 = df.copy()\n",
    "df2['E'] = ['one', 'one', 'two', 'three', 'four', 'three']\n",
    "df2"
   ]
  },
  {
   "cell_type": "code",
   "execution_count": 48,
   "id": "428e71c4",
   "metadata": {},
   "outputs": [
    {
     "data": {
      "text/plain": [
       "2013-01-01    False\n",
       "2013-01-02    False\n",
       "2013-01-03    False\n",
       "2013-01-04     True\n",
       "2013-01-05    False\n",
       "2013-01-06     True\n",
       "Freq: D, Name: E, dtype: bool"
      ]
     },
     "execution_count": 48,
     "metadata": {},
     "output_type": "execute_result"
    }
   ],
   "source": [
    "df2['E'].isin(['three'])"
   ]
  },
  {
   "cell_type": "code",
   "execution_count": 49,
   "id": "54418680",
   "metadata": {},
   "outputs": [
    {
     "data": {
      "text/html": [
       "<div>\n",
       "<style scoped>\n",
       "    .dataframe tbody tr th:only-of-type {\n",
       "        vertical-align: middle;\n",
       "    }\n",
       "\n",
       "    .dataframe tbody tr th {\n",
       "        vertical-align: top;\n",
       "    }\n",
       "\n",
       "    .dataframe thead th {\n",
       "        text-align: right;\n",
       "    }\n",
       "</style>\n",
       "<table border=\"1\" class=\"dataframe\">\n",
       "  <thead>\n",
       "    <tr style=\"text-align: right;\">\n",
       "      <th></th>\n",
       "      <th>A</th>\n",
       "      <th>B</th>\n",
       "      <th>C</th>\n",
       "      <th>D</th>\n",
       "      <th>E</th>\n",
       "    </tr>\n",
       "  </thead>\n",
       "  <tbody>\n",
       "    <tr>\n",
       "      <th>2013-01-04</th>\n",
       "      <td>1.058826</td>\n",
       "      <td>0.572905</td>\n",
       "      <td>1.720068</td>\n",
       "      <td>1.032870</td>\n",
       "      <td>three</td>\n",
       "    </tr>\n",
       "    <tr>\n",
       "      <th>2013-01-06</th>\n",
       "      <td>0.131366</td>\n",
       "      <td>-0.444303</td>\n",
       "      <td>-2.290952</td>\n",
       "      <td>1.067135</td>\n",
       "      <td>three</td>\n",
       "    </tr>\n",
       "  </tbody>\n",
       "</table>\n",
       "</div>"
      ],
      "text/plain": [
       "                   A         B         C         D      E\n",
       "2013-01-04  1.058826  0.572905  1.720068  1.032870  three\n",
       "2013-01-06  0.131366 -0.444303 -2.290952  1.067135  three"
      ]
     },
     "execution_count": 49,
     "metadata": {},
     "output_type": "execute_result"
    }
   ],
   "source": [
    "df2[df2['E'].isin(['three'])]"
   ]
  },
  {
   "cell_type": "code",
   "execution_count": 50,
   "id": "15dd1b8b",
   "metadata": {},
   "outputs": [
    {
     "data": {
      "text/html": [
       "<div>\n",
       "<style scoped>\n",
       "    .dataframe tbody tr th:only-of-type {\n",
       "        vertical-align: middle;\n",
       "    }\n",
       "\n",
       "    .dataframe tbody tr th {\n",
       "        vertical-align: top;\n",
       "    }\n",
       "\n",
       "    .dataframe thead th {\n",
       "        text-align: right;\n",
       "    }\n",
       "</style>\n",
       "<table border=\"1\" class=\"dataframe\">\n",
       "  <thead>\n",
       "    <tr style=\"text-align: right;\">\n",
       "      <th></th>\n",
       "      <th>A</th>\n",
       "      <th>B</th>\n",
       "      <th>C</th>\n",
       "      <th>D</th>\n",
       "      <th>E</th>\n",
       "    </tr>\n",
       "  </thead>\n",
       "  <tbody>\n",
       "    <tr>\n",
       "      <th>2013-01-01</th>\n",
       "      <td>-0.605636</td>\n",
       "      <td>0.093479</td>\n",
       "      <td>-0.516261</td>\n",
       "      <td>0.338599</td>\n",
       "      <td>one</td>\n",
       "    </tr>\n",
       "    <tr>\n",
       "      <th>2013-01-02</th>\n",
       "      <td>0.441679</td>\n",
       "      <td>-0.531593</td>\n",
       "      <td>-1.183277</td>\n",
       "      <td>-0.196020</td>\n",
       "      <td>one</td>\n",
       "    </tr>\n",
       "    <tr>\n",
       "      <th>2013-01-04</th>\n",
       "      <td>1.058826</td>\n",
       "      <td>0.572905</td>\n",
       "      <td>1.720068</td>\n",
       "      <td>1.032870</td>\n",
       "      <td>three</td>\n",
       "    </tr>\n",
       "    <tr>\n",
       "      <th>2013-01-06</th>\n",
       "      <td>0.131366</td>\n",
       "      <td>-0.444303</td>\n",
       "      <td>-2.290952</td>\n",
       "      <td>1.067135</td>\n",
       "      <td>three</td>\n",
       "    </tr>\n",
       "  </tbody>\n",
       "</table>\n",
       "</div>"
      ],
      "text/plain": [
       "                   A         B         C         D      E\n",
       "2013-01-01 -0.605636  0.093479 -0.516261  0.338599    one\n",
       "2013-01-02  0.441679 -0.531593 -1.183277 -0.196020    one\n",
       "2013-01-04  1.058826  0.572905  1.720068  1.032870  three\n",
       "2013-01-06  0.131366 -0.444303 -2.290952  1.067135  three"
      ]
     },
     "execution_count": 50,
     "metadata": {},
     "output_type": "execute_result"
    }
   ],
   "source": [
    "# multiple categories can be selected\n",
    "df2[df2['E'].isin(['three', 'one'])]"
   ]
  },
  {
   "cell_type": "code",
   "execution_count": null,
   "id": "3812cc03",
   "metadata": {},
   "outputs": [],
   "source": []
  },
  {
   "cell_type": "code",
   "execution_count": null,
   "id": "c6ecc798",
   "metadata": {},
   "outputs": [],
   "source": []
  },
  {
   "cell_type": "code",
   "execution_count": null,
   "id": "20eeb8bf",
   "metadata": {},
   "outputs": [],
   "source": []
  },
  {
   "cell_type": "code",
   "execution_count": null,
   "id": "522b2d53",
   "metadata": {},
   "outputs": [],
   "source": []
  }
 ],
 "metadata": {
  "kernelspec": {
   "display_name": "Python 3 (ipykernel)",
   "language": "python",
   "name": "python3"
  },
  "language_info": {
   "codemirror_mode": {
    "name": "ipython",
    "version": 3
   },
   "file_extension": ".py",
   "mimetype": "text/x-python",
   "name": "python",
   "nbconvert_exporter": "python",
   "pygments_lexer": "ipython3",
   "version": "3.9.7"
  }
 },
 "nbformat": 4,
 "nbformat_minor": 5
}
